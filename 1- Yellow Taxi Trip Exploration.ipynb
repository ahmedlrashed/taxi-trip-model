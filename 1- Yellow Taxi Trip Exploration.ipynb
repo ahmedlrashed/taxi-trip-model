{
    "metadata": {
        "kernelspec": {
            "name": "python3",
            "display_name": "Python 3",
            "language": "python"
        },
        "language_info": {
            "name": "python",
            "version": "3.10.4",
            "mimetype": "text/x-python",
            "codemirror_mode": {
                "name": "ipython",
                "version": 3
            },
            "pygments_lexer": "ipython3",
            "nbconvert_exporter": "python",
            "file_extension": ".py"
        },
        "colab": {
            "collapsed_sections": [
                "u3HxcMZgz6iW"
            ],
            "provenance": []
        }
    },
    "nbformat_minor": 2,
    "nbformat": 4,
    "cells": [
        {
            "cell_type": "markdown",
            "source": [
                "# **Yellow Taxi Trip EDA**\n",
                "\n",
                "**The** **goal** of this first notebook is to <span style=\"color: var(--vscode-foreground);\">perform a cursory inspection of</span> <span style=\"color: var(--vscode-foreground);\">&nbsp;the 2017 Yellow Taxi Trip data</span><span style=\"color: var(--vscode-foreground);\">.</span>\n",
                "\n",
                "**Part 1:** Load the Data\n",
                "\n",
                "- Create a pandas dataframe for exploratory data analysis (EDA).\n",
                "\n",
                "**Part 2:** Inspect and Analyze the Data\n",
                "\n",
                "- Compile summary information about the data to inform next steps.\n",
                "    \n",
                "- Use insights from our examination of the summary data to guide deeper investigation into specific variables.\n",
                "    \n",
                "\n",
                "**Part 3:** Interpret the Data\n",
                "\n",
                "- Summarize our examination of the summary data and propose deeper investigation into specific variables."
            ],
            "metadata": {
                "id": "DtNBZFHO3M7n",
                "azdata_cell_guid": "f7422be3-a1e6-4664-a8c3-cf74d330d13a"
            },
            "attachments": {}
        },
        {
            "cell_type": "markdown",
            "source": [
                "## **1: Load the Data**\n",
                "\n",
                "### **Build dataframe**"
            ],
            "metadata": {
                "id": "rgSbVJvomcVa",
                "azdata_cell_guid": "b8a10ec3-1e28-4cd2-bf8b-384cec39abb0"
            },
            "attachments": {}
        },
        {
            "cell_type": "code",
            "source": [
                "# Import packages\n",
                "import pandas as pd \n",
                "import numpy as np   \n",
                "\n",
                "# Load data\n",
                "df = pd.read_csv('2017_Yellow_Taxi_Trip_Data.csv')\n",
                ""
            ],
            "metadata": {
                "colab": {
                    "base_uri": "https://localhost:8080/"
                },
                "id": "5yNpkDYibvXk",
                "outputId": "469269c4-de60-41a5-87db-414cdf589591",
                "azdata_cell_guid": "12f92443-611a-47c1-9783-3069952f38ae",
                "language": "python"
            },
            "outputs": [],
            "execution_count": 19
        },
        {
            "cell_type": "markdown",
            "source": [
                "## **2: Inspect and Analyze the Data**\n",
                "\n",
                "### **Task 2a. Compile summary info about the dataframe using:**\n",
                "\n",
                "1. df.head()\n",
                "2. df.info()\n",
                "3. df.describe()"
            ],
            "metadata": {
                "id": "gYx1emvno7U_",
                "azdata_cell_guid": "7e1b9c65-2ffe-44ee-a04d-efb2099c52c7"
            },
            "attachments": {}
        },
        {
            "cell_type": "code",
            "source": [
                "# Display and examine the first 10 rows of the dataframe\r\n",
                "df.head(10)\r\n",
                ""
            ],
            "metadata": {
                "colab": {
                    "base_uri": "https://localhost:8080/",
                    "height": 427
                },
                "executionInfo": {
                    "elapsed": 172,
                    "status": "ok",
                    "timestamp": 1665171557893,
                    "user": {
                        "displayName": "Brian Hogan",
                        "userId": "18426261707847008999"
                    },
                    "user_tz": 240
                },
                "id": "5HTB82SLFlpH",
                "outputId": "1e956581-5b23-4f61-a9fc-3b985593545f",
                "azdata_cell_guid": "b1e15f72-b1e7-4a26-a76a-8a2f5596233c",
                "language": "python",
                "tags": []
            },
            "outputs": [
                {
                    "output_type": "execute_result",
                    "execution_count": 20,
                    "data": {
                        "text/plain": "   Unnamed: 0  VendorID    tpep_pickup_datetime   tpep_dropoff_datetime   \n0    24870114         2   03/25/2017 8:55:43 AM   03/25/2017 9:09:47 AM  \\\n1    35634249         1   04/11/2017 2:53:28 PM   04/11/2017 3:19:58 PM   \n2   106203690         1   12/15/2017 7:26:56 AM   12/15/2017 7:34:08 AM   \n3    38942136         2   05/07/2017 1:17:59 PM   05/07/2017 1:48:14 PM   \n4    30841670         2  04/15/2017 11:32:20 PM  04/15/2017 11:49:03 PM   \n5    23345809         2   03/25/2017 8:34:11 PM   03/25/2017 8:42:11 PM   \n6    37660487         2   05/03/2017 7:04:09 PM   05/03/2017 8:03:47 PM   \n7    69059411         2   08/15/2017 5:41:06 PM   08/15/2017 6:03:05 PM   \n8     8433159         2   02/04/2017 4:17:07 PM   02/04/2017 4:29:14 PM   \n9    95294817         1   11/10/2017 3:20:29 PM   11/10/2017 3:40:55 PM   \n\n   passenger_count  trip_distance  RatecodeID store_and_fwd_flag   \n0                6           3.34           1                  N  \\\n1                1           1.80           1                  N   \n2                1           1.00           1                  N   \n3                1           3.70           1                  N   \n4                1           4.37           1                  N   \n5                6           2.30           1                  N   \n6                1          12.83           1                  N   \n7                1           2.98           1                  N   \n8                1           1.20           1                  N   \n9                1           1.60           1                  N   \n\n   PULocationID  DOLocationID  payment_type  fare_amount  extra  mta_tax   \n0           100           231             1         13.0    0.0      0.5  \\\n1           186            43             1         16.0    0.0      0.5   \n2           262           236             1          6.5    0.0      0.5   \n3           188            97             1         20.5    0.0      0.5   \n4             4           112             2         16.5    0.5      0.5   \n5           161           236             1          9.0    0.5      0.5   \n6            79           241             1         47.5    1.0      0.5   \n7           237           114             1         16.0    1.0      0.5   \n8           234           249             2          9.0    0.0      0.5   \n9           239           237             1         13.0    0.0      0.5   \n\n   tip_amount  tolls_amount  improvement_surcharge  total_amount  \n0        2.76           0.0                    0.3         16.56  \n1        4.00           0.0                    0.3         20.80  \n2        1.45           0.0                    0.3          8.75  \n3        6.39           0.0                    0.3         27.69  \n4        0.00           0.0                    0.3         17.80  \n5        2.06           0.0                    0.3         12.36  \n6        9.86           0.0                    0.3         59.16  \n7        1.78           0.0                    0.3         19.58  \n8        0.00           0.0                    0.3          9.80  \n9        2.75           0.0                    0.3         16.55  ",
                        "text/html": "<div>\n<style scoped>\n    .dataframe tbody tr th:only-of-type {\n        vertical-align: middle;\n    }\n\n    .dataframe tbody tr th {\n        vertical-align: top;\n    }\n\n    .dataframe thead th {\n        text-align: right;\n    }\n</style>\n<table border=\"1\" class=\"dataframe\">\n  <thead>\n    <tr style=\"text-align: right;\">\n      <th></th>\n      <th>Unnamed: 0</th>\n      <th>VendorID</th>\n      <th>tpep_pickup_datetime</th>\n      <th>tpep_dropoff_datetime</th>\n      <th>passenger_count</th>\n      <th>trip_distance</th>\n      <th>RatecodeID</th>\n      <th>store_and_fwd_flag</th>\n      <th>PULocationID</th>\n      <th>DOLocationID</th>\n      <th>payment_type</th>\n      <th>fare_amount</th>\n      <th>extra</th>\n      <th>mta_tax</th>\n      <th>tip_amount</th>\n      <th>tolls_amount</th>\n      <th>improvement_surcharge</th>\n      <th>total_amount</th>\n    </tr>\n  </thead>\n  <tbody>\n    <tr>\n      <th>0</th>\n      <td>24870114</td>\n      <td>2</td>\n      <td>03/25/2017 8:55:43 AM</td>\n      <td>03/25/2017 9:09:47 AM</td>\n      <td>6</td>\n      <td>3.34</td>\n      <td>1</td>\n      <td>N</td>\n      <td>100</td>\n      <td>231</td>\n      <td>1</td>\n      <td>13.0</td>\n      <td>0.0</td>\n      <td>0.5</td>\n      <td>2.76</td>\n      <td>0.0</td>\n      <td>0.3</td>\n      <td>16.56</td>\n    </tr>\n    <tr>\n      <th>1</th>\n      <td>35634249</td>\n      <td>1</td>\n      <td>04/11/2017 2:53:28 PM</td>\n      <td>04/11/2017 3:19:58 PM</td>\n      <td>1</td>\n      <td>1.80</td>\n      <td>1</td>\n      <td>N</td>\n      <td>186</td>\n      <td>43</td>\n      <td>1</td>\n      <td>16.0</td>\n      <td>0.0</td>\n      <td>0.5</td>\n      <td>4.00</td>\n      <td>0.0</td>\n      <td>0.3</td>\n      <td>20.80</td>\n    </tr>\n    <tr>\n      <th>2</th>\n      <td>106203690</td>\n      <td>1</td>\n      <td>12/15/2017 7:26:56 AM</td>\n      <td>12/15/2017 7:34:08 AM</td>\n      <td>1</td>\n      <td>1.00</td>\n      <td>1</td>\n      <td>N</td>\n      <td>262</td>\n      <td>236</td>\n      <td>1</td>\n      <td>6.5</td>\n      <td>0.0</td>\n      <td>0.5</td>\n      <td>1.45</td>\n      <td>0.0</td>\n      <td>0.3</td>\n      <td>8.75</td>\n    </tr>\n    <tr>\n      <th>3</th>\n      <td>38942136</td>\n      <td>2</td>\n      <td>05/07/2017 1:17:59 PM</td>\n      <td>05/07/2017 1:48:14 PM</td>\n      <td>1</td>\n      <td>3.70</td>\n      <td>1</td>\n      <td>N</td>\n      <td>188</td>\n      <td>97</td>\n      <td>1</td>\n      <td>20.5</td>\n      <td>0.0</td>\n      <td>0.5</td>\n      <td>6.39</td>\n      <td>0.0</td>\n      <td>0.3</td>\n      <td>27.69</td>\n    </tr>\n    <tr>\n      <th>4</th>\n      <td>30841670</td>\n      <td>2</td>\n      <td>04/15/2017 11:32:20 PM</td>\n      <td>04/15/2017 11:49:03 PM</td>\n      <td>1</td>\n      <td>4.37</td>\n      <td>1</td>\n      <td>N</td>\n      <td>4</td>\n      <td>112</td>\n      <td>2</td>\n      <td>16.5</td>\n      <td>0.5</td>\n      <td>0.5</td>\n      <td>0.00</td>\n      <td>0.0</td>\n      <td>0.3</td>\n      <td>17.80</td>\n    </tr>\n    <tr>\n      <th>5</th>\n      <td>23345809</td>\n      <td>2</td>\n      <td>03/25/2017 8:34:11 PM</td>\n      <td>03/25/2017 8:42:11 PM</td>\n      <td>6</td>\n      <td>2.30</td>\n      <td>1</td>\n      <td>N</td>\n      <td>161</td>\n      <td>236</td>\n      <td>1</td>\n      <td>9.0</td>\n      <td>0.5</td>\n      <td>0.5</td>\n      <td>2.06</td>\n      <td>0.0</td>\n      <td>0.3</td>\n      <td>12.36</td>\n    </tr>\n    <tr>\n      <th>6</th>\n      <td>37660487</td>\n      <td>2</td>\n      <td>05/03/2017 7:04:09 PM</td>\n      <td>05/03/2017 8:03:47 PM</td>\n      <td>1</td>\n      <td>12.83</td>\n      <td>1</td>\n      <td>N</td>\n      <td>79</td>\n      <td>241</td>\n      <td>1</td>\n      <td>47.5</td>\n      <td>1.0</td>\n      <td>0.5</td>\n      <td>9.86</td>\n      <td>0.0</td>\n      <td>0.3</td>\n      <td>59.16</td>\n    </tr>\n    <tr>\n      <th>7</th>\n      <td>69059411</td>\n      <td>2</td>\n      <td>08/15/2017 5:41:06 PM</td>\n      <td>08/15/2017 6:03:05 PM</td>\n      <td>1</td>\n      <td>2.98</td>\n      <td>1</td>\n      <td>N</td>\n      <td>237</td>\n      <td>114</td>\n      <td>1</td>\n      <td>16.0</td>\n      <td>1.0</td>\n      <td>0.5</td>\n      <td>1.78</td>\n      <td>0.0</td>\n      <td>0.3</td>\n      <td>19.58</td>\n    </tr>\n    <tr>\n      <th>8</th>\n      <td>8433159</td>\n      <td>2</td>\n      <td>02/04/2017 4:17:07 PM</td>\n      <td>02/04/2017 4:29:14 PM</td>\n      <td>1</td>\n      <td>1.20</td>\n      <td>1</td>\n      <td>N</td>\n      <td>234</td>\n      <td>249</td>\n      <td>2</td>\n      <td>9.0</td>\n      <td>0.0</td>\n      <td>0.5</td>\n      <td>0.00</td>\n      <td>0.0</td>\n      <td>0.3</td>\n      <td>9.80</td>\n    </tr>\n    <tr>\n      <th>9</th>\n      <td>95294817</td>\n      <td>1</td>\n      <td>11/10/2017 3:20:29 PM</td>\n      <td>11/10/2017 3:40:55 PM</td>\n      <td>1</td>\n      <td>1.60</td>\n      <td>1</td>\n      <td>N</td>\n      <td>239</td>\n      <td>237</td>\n      <td>1</td>\n      <td>13.0</td>\n      <td>0.0</td>\n      <td>0.5</td>\n      <td>2.75</td>\n      <td>0.0</td>\n      <td>0.3</td>\n      <td>16.55</td>\n    </tr>\n  </tbody>\n</table>\n</div>"
                    },
                    "metadata": {}
                }
            ],
            "execution_count": 20
        },
        {
            "cell_type": "code",
            "source": [
                "# Get summary info\n",
                "df.info()\n",
                ""
            ],
            "metadata": {
                "colab": {
                    "base_uri": "https://localhost:8080/"
                },
                "executionInfo": {
                    "elapsed": 175,
                    "status": "ok",
                    "timestamp": 1665171561166,
                    "user": {
                        "displayName": "Brian Hogan",
                        "userId": "18426261707847008999"
                    },
                    "user_tz": 240
                },
                "id": "yXsNTsteu5zZ",
                "outputId": "be9a4450-7d01-49e0-de38-88a336410e02",
                "azdata_cell_guid": "0177e877-377e-472b-a8da-dfc705024a2a",
                "language": "python"
            },
            "outputs": [
                {
                    "output_type": "stream",
                    "name": "stdout",
                    "text": "<class 'pandas.core.frame.DataFrame'>\nRangeIndex: 22699 entries, 0 to 22698\nData columns (total 18 columns):\n #   Column                 Non-Null Count  Dtype  \n---  ------                 --------------  -----  \n 0   Unnamed: 0             22699 non-null  int64  \n 1   VendorID               22699 non-null  int64  \n 2   tpep_pickup_datetime   22699 non-null  object \n 3   tpep_dropoff_datetime  22699 non-null  object \n 4   passenger_count        22699 non-null  int64  \n 5   trip_distance          22699 non-null  float64\n 6   RatecodeID             22699 non-null  int64  \n 7   store_and_fwd_flag     22699 non-null  object \n 8   PULocationID           22699 non-null  int64  \n 9   DOLocationID           22699 non-null  int64  \n 10  payment_type           22699 non-null  int64  \n 11  fare_amount            22699 non-null  float64\n 12  extra                  22699 non-null  float64\n 13  mta_tax                22699 non-null  float64\n 14  tip_amount             22699 non-null  float64\n 15  tolls_amount           22699 non-null  float64\n 16  improvement_surcharge  22699 non-null  float64\n 17  total_amount           22699 non-null  float64\ndtypes: float64(8), int64(7), object(3)\nmemory usage: 3.1+ MB\n"
                }
            ],
            "execution_count": 21
        },
        {
            "cell_type": "code",
            "source": [
                "# Get summary statistics\n",
                "df.describe()\n",
                ""
            ],
            "metadata": {
                "azdata_cell_guid": "5f5ff730-953b-41a9-bfc0-e1a9aecaa39a",
                "language": "python"
            },
            "outputs": [
                {
                    "output_type": "execute_result",
                    "execution_count": 22,
                    "data": {
                        "text/plain": "         Unnamed: 0      VendorID  passenger_count  trip_distance   \ncount  2.269900e+04  22699.000000     22699.000000   22699.000000  \\\nmean   5.675849e+07      1.556236         1.642319       2.913313   \nstd    3.274493e+07      0.496838         1.285231       3.653171   \nmin    1.212700e+04      1.000000         0.000000       0.000000   \n25%    2.852056e+07      1.000000         1.000000       0.990000   \n50%    5.673150e+07      2.000000         1.000000       1.610000   \n75%    8.537452e+07      2.000000         2.000000       3.060000   \nmax    1.134863e+08      2.000000         6.000000      33.960000   \n\n         RatecodeID  PULocationID  DOLocationID  payment_type   fare_amount   \ncount  22699.000000  22699.000000  22699.000000  22699.000000  22699.000000  \\\nmean       1.043394    162.412353    161.527997      1.336887     13.026629   \nstd        0.708391     66.633373     70.139691      0.496211     13.243791   \nmin        1.000000      1.000000      1.000000      1.000000   -120.000000   \n25%        1.000000    114.000000    112.000000      1.000000      6.500000   \n50%        1.000000    162.000000    162.000000      1.000000      9.500000   \n75%        1.000000    233.000000    233.000000      2.000000     14.500000   \nmax       99.000000    265.000000    265.000000      4.000000    999.990000   \n\n              extra       mta_tax    tip_amount  tolls_amount   \ncount  22699.000000  22699.000000  22699.000000  22699.000000  \\\nmean       0.333275      0.497445      1.835781      0.312542   \nstd        0.463097      0.039465      2.800626      1.399212   \nmin       -1.000000     -0.500000      0.000000      0.000000   \n25%        0.000000      0.500000      0.000000      0.000000   \n50%        0.000000      0.500000      1.350000      0.000000   \n75%        0.500000      0.500000      2.450000      0.000000   \nmax        4.500000      0.500000    200.000000     19.100000   \n\n       improvement_surcharge  total_amount  \ncount           22699.000000  22699.000000  \nmean                0.299551     16.310502  \nstd                 0.015673     16.097295  \nmin                -0.300000   -120.300000  \n25%                 0.300000      8.750000  \n50%                 0.300000     11.800000  \n75%                 0.300000     17.800000  \nmax                 0.300000   1200.290000  ",
                        "text/html": "<div>\n<style scoped>\n    .dataframe tbody tr th:only-of-type {\n        vertical-align: middle;\n    }\n\n    .dataframe tbody tr th {\n        vertical-align: top;\n    }\n\n    .dataframe thead th {\n        text-align: right;\n    }\n</style>\n<table border=\"1\" class=\"dataframe\">\n  <thead>\n    <tr style=\"text-align: right;\">\n      <th></th>\n      <th>Unnamed: 0</th>\n      <th>VendorID</th>\n      <th>passenger_count</th>\n      <th>trip_distance</th>\n      <th>RatecodeID</th>\n      <th>PULocationID</th>\n      <th>DOLocationID</th>\n      <th>payment_type</th>\n      <th>fare_amount</th>\n      <th>extra</th>\n      <th>mta_tax</th>\n      <th>tip_amount</th>\n      <th>tolls_amount</th>\n      <th>improvement_surcharge</th>\n      <th>total_amount</th>\n    </tr>\n  </thead>\n  <tbody>\n    <tr>\n      <th>count</th>\n      <td>2.269900e+04</td>\n      <td>22699.000000</td>\n      <td>22699.000000</td>\n      <td>22699.000000</td>\n      <td>22699.000000</td>\n      <td>22699.000000</td>\n      <td>22699.000000</td>\n      <td>22699.000000</td>\n      <td>22699.000000</td>\n      <td>22699.000000</td>\n      <td>22699.000000</td>\n      <td>22699.000000</td>\n      <td>22699.000000</td>\n      <td>22699.000000</td>\n      <td>22699.000000</td>\n    </tr>\n    <tr>\n      <th>mean</th>\n      <td>5.675849e+07</td>\n      <td>1.556236</td>\n      <td>1.642319</td>\n      <td>2.913313</td>\n      <td>1.043394</td>\n      <td>162.412353</td>\n      <td>161.527997</td>\n      <td>1.336887</td>\n      <td>13.026629</td>\n      <td>0.333275</td>\n      <td>0.497445</td>\n      <td>1.835781</td>\n      <td>0.312542</td>\n      <td>0.299551</td>\n      <td>16.310502</td>\n    </tr>\n    <tr>\n      <th>std</th>\n      <td>3.274493e+07</td>\n      <td>0.496838</td>\n      <td>1.285231</td>\n      <td>3.653171</td>\n      <td>0.708391</td>\n      <td>66.633373</td>\n      <td>70.139691</td>\n      <td>0.496211</td>\n      <td>13.243791</td>\n      <td>0.463097</td>\n      <td>0.039465</td>\n      <td>2.800626</td>\n      <td>1.399212</td>\n      <td>0.015673</td>\n      <td>16.097295</td>\n    </tr>\n    <tr>\n      <th>min</th>\n      <td>1.212700e+04</td>\n      <td>1.000000</td>\n      <td>0.000000</td>\n      <td>0.000000</td>\n      <td>1.000000</td>\n      <td>1.000000</td>\n      <td>1.000000</td>\n      <td>1.000000</td>\n      <td>-120.000000</td>\n      <td>-1.000000</td>\n      <td>-0.500000</td>\n      <td>0.000000</td>\n      <td>0.000000</td>\n      <td>-0.300000</td>\n      <td>-120.300000</td>\n    </tr>\n    <tr>\n      <th>25%</th>\n      <td>2.852056e+07</td>\n      <td>1.000000</td>\n      <td>1.000000</td>\n      <td>0.990000</td>\n      <td>1.000000</td>\n      <td>114.000000</td>\n      <td>112.000000</td>\n      <td>1.000000</td>\n      <td>6.500000</td>\n      <td>0.000000</td>\n      <td>0.500000</td>\n      <td>0.000000</td>\n      <td>0.000000</td>\n      <td>0.300000</td>\n      <td>8.750000</td>\n    </tr>\n    <tr>\n      <th>50%</th>\n      <td>5.673150e+07</td>\n      <td>2.000000</td>\n      <td>1.000000</td>\n      <td>1.610000</td>\n      <td>1.000000</td>\n      <td>162.000000</td>\n      <td>162.000000</td>\n      <td>1.000000</td>\n      <td>9.500000</td>\n      <td>0.000000</td>\n      <td>0.500000</td>\n      <td>1.350000</td>\n      <td>0.000000</td>\n      <td>0.300000</td>\n      <td>11.800000</td>\n    </tr>\n    <tr>\n      <th>75%</th>\n      <td>8.537452e+07</td>\n      <td>2.000000</td>\n      <td>2.000000</td>\n      <td>3.060000</td>\n      <td>1.000000</td>\n      <td>233.000000</td>\n      <td>233.000000</td>\n      <td>2.000000</td>\n      <td>14.500000</td>\n      <td>0.500000</td>\n      <td>0.500000</td>\n      <td>2.450000</td>\n      <td>0.000000</td>\n      <td>0.300000</td>\n      <td>17.800000</td>\n    </tr>\n    <tr>\n      <th>max</th>\n      <td>1.134863e+08</td>\n      <td>2.000000</td>\n      <td>6.000000</td>\n      <td>33.960000</td>\n      <td>99.000000</td>\n      <td>265.000000</td>\n      <td>265.000000</td>\n      <td>4.000000</td>\n      <td>999.990000</td>\n      <td>4.500000</td>\n      <td>0.500000</td>\n      <td>200.000000</td>\n      <td>19.100000</td>\n      <td>0.300000</td>\n      <td>1200.290000</td>\n    </tr>\n  </tbody>\n</table>\n</div>"
                    },
                    "metadata": {}
                }
            ],
            "execution_count": 22
        },
        {
            "cell_type": "markdown",
            "source": [
                "**Observations:**\n",
                "\n",
                "1. We notice that there are no null values (which is good), but there are three object fields. One is the fwd flag, which should be boolean, so we will have to convert to binary 0 or 1. The other two are datetime stamps, which we will have to convert to datetime format.\n",
                "    \n",
                "2. Regarding fare amount, the distribution is worth considering. The maximum fare amount is a much larger value ($1000) than the 25-75 percent range of values. Also, it's questionable how there are negative values for fare amount. Regarding trip distance, most rides are between 1-3 miles, but the maximum is over 33 miles."
            ],
            "metadata": {
                "azdata_cell_guid": "c994f56e-ec7d-48e0-8c03-b42da47ae030"
            },
            "attachments": {}
        },
        {
            "cell_type": "markdown",
            "source": [
                "### **Task 2b. Investigate the Primary Variables**\n",
                "\n",
                "We start by sorting the data table for the two primary indicators: `trip_distance` and `total_amount`."
            ],
            "metadata": {
                "id": "BMNnIoc51_1N",
                "azdata_cell_guid": "1cdca763-5b8c-4a84-86db-2d00f140f876"
            },
            "attachments": {}
        },
        {
            "cell_type": "code",
            "source": [
                "# Sort the data by trip distance from maximum to minimum value\n",
                "df_sort = df.sort_values(by=['trip_distance'],ascending=False)\n",
                "df_sort.head(10)\n",
                ""
            ],
            "metadata": {
                "azdata_cell_guid": "d49380dd-5d2b-4fc2-9cac-de9381524e5f",
                "language": "python"
            },
            "outputs": [
                {
                    "output_type": "execute_result",
                    "execution_count": 23,
                    "data": {
                        "text/plain": "       Unnamed: 0  VendorID    tpep_pickup_datetime   tpep_dropoff_datetime   \n9280     51810714         2  06/18/2017 11:33:25 PM  06/19/2017 12:12:38 AM  \\\n13861    40523668         2   05/19/2017 8:20:21 AM   05/19/2017 9:20:30 AM   \n6064     49894023         2  06/13/2017 12:30:22 PM   06/13/2017 1:37:51 PM   \n10291    76319330         2  09/11/2017 11:41:04 AM  09/11/2017 12:18:58 PM   \n29       94052446         2   11/06/2017 8:30:50 PM  11/07/2017 12:00:00 AM   \n18130    90375786         1   10/26/2017 2:45:01 PM   10/26/2017 4:12:49 PM   \n5792     68023798         2   08/11/2017 2:14:01 PM   08/11/2017 3:17:31 PM   \n15350    77309977         2   09/14/2017 1:44:44 PM   09/14/2017 2:34:29 PM   \n10302    43431843         1   05/15/2017 8:11:34 AM   05/15/2017 9:03:16 AM   \n2592     51094874         2   06/16/2017 6:51:20 PM   06/16/2017 7:41:42 PM   \n\n       passenger_count  trip_distance  RatecodeID store_and_fwd_flag   \n9280                 2          33.96           5                  N  \\\n13861                1          33.92           5                  N   \n6064                 1          32.72           3                  N   \n10291                1          31.95           4                  N   \n29                   1          30.83           1                  N   \n18130                1          30.50           1                  N   \n5792                 1          30.33           2                  N   \n15350                1          28.23           2                  N   \n10302                1          28.20           2                  N   \n2592                 1          27.97           2                  N   \n\n       PULocationID  DOLocationID  payment_type  fare_amount  extra  mta_tax   \n9280            132           265             2       150.00    0.0      0.0  \\\n13861           229           265             1       200.01    0.0      0.5   \n6064            138             1             1       107.00    0.0      0.0   \n10291           138           265             2       131.00    0.0      0.5   \n29              132            23             1        80.00    0.5      0.5   \n18130           132           220             1        90.50    0.0      0.5   \n5792            132           158             1        52.00    0.0      0.5   \n15350            13           132             1        52.00    0.0      0.5   \n10302            90           132             1        52.00    0.0      0.5   \n2592            261           132             2        52.00    4.5      0.5   \n\n       tip_amount  tolls_amount  improvement_surcharge  total_amount  \n9280         0.00          0.00                    0.3        150.30  \n13861       51.64          5.76                    0.3        258.21  \n6064        55.50         16.26                    0.3        179.06  \n10291        0.00          0.00                    0.3        131.80  \n29          18.56         11.52                    0.3        111.38  \n18130       19.85          8.16                    0.3        119.31  \n5792        14.64          5.76                    0.3         73.20  \n15350        4.40          5.76                    0.3         62.96  \n10302       11.71          5.76                    0.3         70.27  \n2592         0.00          5.76                    0.3         63.06  ",
                        "text/html": "<div>\n<style scoped>\n    .dataframe tbody tr th:only-of-type {\n        vertical-align: middle;\n    }\n\n    .dataframe tbody tr th {\n        vertical-align: top;\n    }\n\n    .dataframe thead th {\n        text-align: right;\n    }\n</style>\n<table border=\"1\" class=\"dataframe\">\n  <thead>\n    <tr style=\"text-align: right;\">\n      <th></th>\n      <th>Unnamed: 0</th>\n      <th>VendorID</th>\n      <th>tpep_pickup_datetime</th>\n      <th>tpep_dropoff_datetime</th>\n      <th>passenger_count</th>\n      <th>trip_distance</th>\n      <th>RatecodeID</th>\n      <th>store_and_fwd_flag</th>\n      <th>PULocationID</th>\n      <th>DOLocationID</th>\n      <th>payment_type</th>\n      <th>fare_amount</th>\n      <th>extra</th>\n      <th>mta_tax</th>\n      <th>tip_amount</th>\n      <th>tolls_amount</th>\n      <th>improvement_surcharge</th>\n      <th>total_amount</th>\n    </tr>\n  </thead>\n  <tbody>\n    <tr>\n      <th>9280</th>\n      <td>51810714</td>\n      <td>2</td>\n      <td>06/18/2017 11:33:25 PM</td>\n      <td>06/19/2017 12:12:38 AM</td>\n      <td>2</td>\n      <td>33.96</td>\n      <td>5</td>\n      <td>N</td>\n      <td>132</td>\n      <td>265</td>\n      <td>2</td>\n      <td>150.00</td>\n      <td>0.0</td>\n      <td>0.0</td>\n      <td>0.00</td>\n      <td>0.00</td>\n      <td>0.3</td>\n      <td>150.30</td>\n    </tr>\n    <tr>\n      <th>13861</th>\n      <td>40523668</td>\n      <td>2</td>\n      <td>05/19/2017 8:20:21 AM</td>\n      <td>05/19/2017 9:20:30 AM</td>\n      <td>1</td>\n      <td>33.92</td>\n      <td>5</td>\n      <td>N</td>\n      <td>229</td>\n      <td>265</td>\n      <td>1</td>\n      <td>200.01</td>\n      <td>0.0</td>\n      <td>0.5</td>\n      <td>51.64</td>\n      <td>5.76</td>\n      <td>0.3</td>\n      <td>258.21</td>\n    </tr>\n    <tr>\n      <th>6064</th>\n      <td>49894023</td>\n      <td>2</td>\n      <td>06/13/2017 12:30:22 PM</td>\n      <td>06/13/2017 1:37:51 PM</td>\n      <td>1</td>\n      <td>32.72</td>\n      <td>3</td>\n      <td>N</td>\n      <td>138</td>\n      <td>1</td>\n      <td>1</td>\n      <td>107.00</td>\n      <td>0.0</td>\n      <td>0.0</td>\n      <td>55.50</td>\n      <td>16.26</td>\n      <td>0.3</td>\n      <td>179.06</td>\n    </tr>\n    <tr>\n      <th>10291</th>\n      <td>76319330</td>\n      <td>2</td>\n      <td>09/11/2017 11:41:04 AM</td>\n      <td>09/11/2017 12:18:58 PM</td>\n      <td>1</td>\n      <td>31.95</td>\n      <td>4</td>\n      <td>N</td>\n      <td>138</td>\n      <td>265</td>\n      <td>2</td>\n      <td>131.00</td>\n      <td>0.0</td>\n      <td>0.5</td>\n      <td>0.00</td>\n      <td>0.00</td>\n      <td>0.3</td>\n      <td>131.80</td>\n    </tr>\n    <tr>\n      <th>29</th>\n      <td>94052446</td>\n      <td>2</td>\n      <td>11/06/2017 8:30:50 PM</td>\n      <td>11/07/2017 12:00:00 AM</td>\n      <td>1</td>\n      <td>30.83</td>\n      <td>1</td>\n      <td>N</td>\n      <td>132</td>\n      <td>23</td>\n      <td>1</td>\n      <td>80.00</td>\n      <td>0.5</td>\n      <td>0.5</td>\n      <td>18.56</td>\n      <td>11.52</td>\n      <td>0.3</td>\n      <td>111.38</td>\n    </tr>\n    <tr>\n      <th>18130</th>\n      <td>90375786</td>\n      <td>1</td>\n      <td>10/26/2017 2:45:01 PM</td>\n      <td>10/26/2017 4:12:49 PM</td>\n      <td>1</td>\n      <td>30.50</td>\n      <td>1</td>\n      <td>N</td>\n      <td>132</td>\n      <td>220</td>\n      <td>1</td>\n      <td>90.50</td>\n      <td>0.0</td>\n      <td>0.5</td>\n      <td>19.85</td>\n      <td>8.16</td>\n      <td>0.3</td>\n      <td>119.31</td>\n    </tr>\n    <tr>\n      <th>5792</th>\n      <td>68023798</td>\n      <td>2</td>\n      <td>08/11/2017 2:14:01 PM</td>\n      <td>08/11/2017 3:17:31 PM</td>\n      <td>1</td>\n      <td>30.33</td>\n      <td>2</td>\n      <td>N</td>\n      <td>132</td>\n      <td>158</td>\n      <td>1</td>\n      <td>52.00</td>\n      <td>0.0</td>\n      <td>0.5</td>\n      <td>14.64</td>\n      <td>5.76</td>\n      <td>0.3</td>\n      <td>73.20</td>\n    </tr>\n    <tr>\n      <th>15350</th>\n      <td>77309977</td>\n      <td>2</td>\n      <td>09/14/2017 1:44:44 PM</td>\n      <td>09/14/2017 2:34:29 PM</td>\n      <td>1</td>\n      <td>28.23</td>\n      <td>2</td>\n      <td>N</td>\n      <td>13</td>\n      <td>132</td>\n      <td>1</td>\n      <td>52.00</td>\n      <td>0.0</td>\n      <td>0.5</td>\n      <td>4.40</td>\n      <td>5.76</td>\n      <td>0.3</td>\n      <td>62.96</td>\n    </tr>\n    <tr>\n      <th>10302</th>\n      <td>43431843</td>\n      <td>1</td>\n      <td>05/15/2017 8:11:34 AM</td>\n      <td>05/15/2017 9:03:16 AM</td>\n      <td>1</td>\n      <td>28.20</td>\n      <td>2</td>\n      <td>N</td>\n      <td>90</td>\n      <td>132</td>\n      <td>1</td>\n      <td>52.00</td>\n      <td>0.0</td>\n      <td>0.5</td>\n      <td>11.71</td>\n      <td>5.76</td>\n      <td>0.3</td>\n      <td>70.27</td>\n    </tr>\n    <tr>\n      <th>2592</th>\n      <td>51094874</td>\n      <td>2</td>\n      <td>06/16/2017 6:51:20 PM</td>\n      <td>06/16/2017 7:41:42 PM</td>\n      <td>1</td>\n      <td>27.97</td>\n      <td>2</td>\n      <td>N</td>\n      <td>261</td>\n      <td>132</td>\n      <td>2</td>\n      <td>52.00</td>\n      <td>4.5</td>\n      <td>0.5</td>\n      <td>0.00</td>\n      <td>5.76</td>\n      <td>0.3</td>\n      <td>63.06</td>\n    </tr>\n  </tbody>\n</table>\n</div>"
                    },
                    "metadata": {}
                }
            ],
            "execution_count": 23
        },
        {
            "cell_type": "code",
            "source": [
                "# Sort the data by total amount and print the top 20 values\n",
                "total_amount_sorted = df.sort_values(\n",
                "    ['total_amount'], ascending=False)['total_amount']\n",
                "total_amount_sorted.head(20)\n",
                ""
            ],
            "metadata": {
                "azdata_cell_guid": "57081552-6ce5-4c95-b6c1-6d2c8acbc751",
                "language": "python"
            },
            "outputs": [
                {
                    "output_type": "execute_result",
                    "execution_count": 24,
                    "data": {
                        "text/plain": "8476     1200.29\n20312     450.30\n13861     258.21\n12511     233.74\n15474     211.80\n6064      179.06\n16379     157.06\n3582      152.30\n11269     151.82\n9280      150.30\n1928      137.80\n10291     131.80\n6708      126.00\n11608     123.30\n908       121.56\n7281      120.96\n18130     119.31\n13621     115.94\n13359     111.95\n29        111.38\nName: total_amount, dtype: float64"
                    },
                    "metadata": {}
                }
            ],
            "execution_count": 24
        },
        {
            "cell_type": "markdown",
            "source": [
                "**Observations:**\n",
                "\n",
                "1. Sorting (`trip_distance`) from maximum to minimum, the values align with our earlier data discovery, where we noticed that the longest rides are approximately 33 miles.\n",
                "    \n",
                "2. Sorting (`total_amount`), we notice the first two values are significantly higher than the others.\n",
                "    \n",
                "3. The resulting rows are not similar for both sorts; specifically, the most expensive rides are not necessarily the longest ones."
            ],
            "metadata": {
                "azdata_cell_guid": "7b179e71-bbcb-4817-bb1c-854863f0d260"
            },
            "attachments": {}
        },
        {
            "cell_type": "markdown",
            "source": [
                "### **Task 2c. Deeper Investigation of Primary Variables**\n",
                "\n",
                "We start by sorting the data table for the two primary indicators: `trip_distance` and `total_amount`."
            ],
            "metadata": {
                "azdata_cell_guid": "962f0dd8-2635-4bf4-9b44-b7f159e55c3d"
            },
            "attachments": {}
        },
        {
            "cell_type": "code",
            "source": [
                "# Sort the data by total amount and print the bottom 20 values\n",
                "total_amount_sorted.tail(20)\n",
                ""
            ],
            "metadata": {
                "azdata_cell_guid": "3d0985ca-6c66-48d4-ba7a-ece566f089f2",
                "language": "python"
            },
            "outputs": [
                {
                    "output_type": "execute_result",
                    "execution_count": 25,
                    "data": {
                        "text/plain": "14283      0.31\n19067      0.30\n10506      0.00\n5722       0.00\n4402       0.00\n22566      0.00\n1646      -3.30\n18565     -3.80\n314       -3.80\n5758      -3.80\n5448      -4.30\n4423      -4.30\n10281     -4.30\n8204      -4.80\n20317     -4.80\n11204     -5.30\n14714     -5.30\n17602     -5.80\n20698     -5.80\n12944   -120.30\nName: total_amount, dtype: float64"
                    },
                    "metadata": {}
                }
            ],
            "execution_count": 25
        },
        {
            "cell_type": "code",
            "source": [
                "# How many of each payment type are represented in the data?\n",
                "df['payment_type'].value_counts()\n",
                ""
            ],
            "metadata": {
                "azdata_cell_guid": "2e11758b-fcce-47f8-9d47-cfe9bfff6cb0",
                "language": "python"
            },
            "outputs": [
                {
                    "output_type": "execute_result",
                    "execution_count": 26,
                    "data": {
                        "text/plain": "payment_type\n1    15265\n2     7267\n3      121\n4       46\nName: count, dtype: int64"
                    },
                    "metadata": {}
                }
            ],
            "execution_count": 26
        },
        {
            "cell_type": "code",
            "source": [
                "# What is the average tip for trips paid for with credit card?\n",
                "avg_cc_tip = df[df['payment_type']==1]['tip_amount'].mean()\n",
                "print('Avg. cc tip:', avg_cc_tip)\n",
                "\n",
                "# What is the average tip for trips paid for with cash?\n",
                "avg_cash_tip = df[df['payment_type']==2]['tip_amount'].mean()\n",
                "print('Avg. cash tip:', avg_cash_tip)\n",
                ""
            ],
            "metadata": {
                "azdata_cell_guid": "cb3b17d6-2982-418a-97d5-43960e9c8464",
                "language": "python"
            },
            "outputs": [
                {
                    "output_type": "stream",
                    "name": "stdout",
                    "text": "Avg. cc tip: 2.7298001965280054\nAvg. cash tip: 0.0\n"
                }
            ],
            "execution_count": 27
        },
        {
            "cell_type": "code",
            "source": [
                "# How many times is each vendor ID represented in the data?\n",
                "df['VendorID'].value_counts()\n",
                ""
            ],
            "metadata": {
                "azdata_cell_guid": "ef01d8d3-b482-4b63-afdc-dcd6a0c4b25e",
                "language": "python"
            },
            "outputs": [
                {
                    "output_type": "execute_result",
                    "execution_count": 28,
                    "data": {
                        "text/plain": "VendorID\n2    12626\n1    10073\nName: count, dtype: int64"
                    },
                    "metadata": {}
                }
            ],
            "execution_count": 28
        },
        {
            "cell_type": "code",
            "source": [
                "# What is the mean total amount for each vendor?\n",
                "df.groupby(['VendorID']).mean(numeric_only=True)[['total_amount']]\n",
                ""
            ],
            "metadata": {
                "azdata_cell_guid": "a9f6085e-0553-4ffe-a1de-d8b782fbb03c",
                "language": "python"
            },
            "outputs": [
                {
                    "output_type": "execute_result",
                    "execution_count": 29,
                    "data": {
                        "text/plain": "          total_amount\nVendorID              \n1            16.298119\n2            16.320382",
                        "text/html": "<div>\n<style scoped>\n    .dataframe tbody tr th:only-of-type {\n        vertical-align: middle;\n    }\n\n    .dataframe tbody tr th {\n        vertical-align: top;\n    }\n\n    .dataframe thead th {\n        text-align: right;\n    }\n</style>\n<table border=\"1\" class=\"dataframe\">\n  <thead>\n    <tr style=\"text-align: right;\">\n      <th></th>\n      <th>total_amount</th>\n    </tr>\n    <tr>\n      <th>VendorID</th>\n      <th></th>\n    </tr>\n  </thead>\n  <tbody>\n    <tr>\n      <th>1</th>\n      <td>16.298119</td>\n    </tr>\n    <tr>\n      <th>2</th>\n      <td>16.320382</td>\n    </tr>\n  </tbody>\n</table>\n</div>"
                    },
                    "metadata": {}
                }
            ],
            "execution_count": 29
        },
        {
            "cell_type": "code",
            "source": [
                "# Filter the data for credit card payments only\n",
                "credit_card = df[df['payment_type']==1]\n",
                "\n",
                "# Filter the credit-card-only data for passenger count only\n",
                "credit_card['passenger_count'].value_counts()\n",
                ""
            ],
            "metadata": {
                "azdata_cell_guid": "d67d1270-4c66-4fd5-a229-cad9838d418a",
                "language": "python"
            },
            "outputs": [
                {
                    "output_type": "execute_result",
                    "execution_count": 30,
                    "data": {
                        "text/plain": "passenger_count\n1    10977\n2     2168\n5      775\n3      600\n6      451\n4      267\n0       27\nName: count, dtype: int64"
                    },
                    "metadata": {}
                }
            ],
            "execution_count": 30
        },
        {
            "cell_type": "code",
            "source": [
                "# Calculate the average tip amount for each passenger count (credit card payments only)\n",
                "credit_card.groupby(['passenger_count']).mean(numeric_only=True)[['tip_amount']]\n",
                ""
            ],
            "metadata": {
                "azdata_cell_guid": "e72519f4-4c75-49be-a291-ee165f641d7d",
                "language": "python"
            },
            "outputs": [
                {
                    "output_type": "execute_result",
                    "execution_count": 31,
                    "data": {
                        "text/plain": "                 tip_amount\npassenger_count            \n0                  2.610370\n1                  2.714681\n2                  2.829949\n3                  2.726800\n4                  2.607753\n5                  2.762645\n6                  2.643326",
                        "text/html": "<div>\n<style scoped>\n    .dataframe tbody tr th:only-of-type {\n        vertical-align: middle;\n    }\n\n    .dataframe tbody tr th {\n        vertical-align: top;\n    }\n\n    .dataframe thead th {\n        text-align: right;\n    }\n</style>\n<table border=\"1\" class=\"dataframe\">\n  <thead>\n    <tr style=\"text-align: right;\">\n      <th></th>\n      <th>tip_amount</th>\n    </tr>\n    <tr>\n      <th>passenger_count</th>\n      <th></th>\n    </tr>\n  </thead>\n  <tbody>\n    <tr>\n      <th>0</th>\n      <td>2.610370</td>\n    </tr>\n    <tr>\n      <th>1</th>\n      <td>2.714681</td>\n    </tr>\n    <tr>\n      <th>2</th>\n      <td>2.829949</td>\n    </tr>\n    <tr>\n      <th>3</th>\n      <td>2.726800</td>\n    </tr>\n    <tr>\n      <th>4</th>\n      <td>2.607753</td>\n    </tr>\n    <tr>\n      <th>5</th>\n      <td>2.762645</td>\n    </tr>\n    <tr>\n      <th>6</th>\n      <td>2.643326</td>\n    </tr>\n  </tbody>\n</table>\n</div>"
                    },
                    "metadata": {}
                }
            ],
            "execution_count": 31
        },
        {
            "cell_type": "markdown",
            "source": [
                "# **Preliminary Conclusions**\n",
                "\n",
                "After looking at the dataset, the two variables that are most likely to help build a predictive model for taxi ride fares are `total_amount` and `trip_distance` because those variables show a picture of a taxi cab ride."
            ],
            "metadata": {
                "id": "u3HxcMZgz6iW",
                "azdata_cell_guid": "7c3f7e94-7bca-48e9-8b04-f864a87ca897"
            },
            "attachments": {}
        }
    ]
}