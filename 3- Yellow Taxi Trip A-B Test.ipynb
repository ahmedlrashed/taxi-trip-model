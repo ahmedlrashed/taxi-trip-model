{
    "metadata": {
        "kernelspec": {
            "name": "python3",
            "display_name": "Python 3",
            "language": "python"
        },
        "language_info": {
            "name": "python",
            "version": "3.10.4",
            "mimetype": "text/x-python",
            "codemirror_mode": {
                "name": "ipython",
                "version": 3
            },
            "pygments_lexer": "ipython3",
            "nbconvert_exporter": "python",
            "file_extension": ".py"
        },
        "colab": {
            "collapsed_sections": [],
            "provenance": []
        }
    },
    "nbformat_minor": 2,
    "nbformat": 4,
    "cells": [
        {
            "cell_type": "markdown",
            "source": [
                "# **Yellow Taxi Trip A-B Testing**\n",
                "\n",
                "**The goal** of this third notebook is <span style=\"color: var(--vscode-foreground);\">to discover if&nbsp;there is a relationship between the total-fare-amount and the payment-type. We will then&nbsp;create a visualization of our findings and add that visualization to the report we share to stakeholders.</span>\n",
                "\n",
                "**Part 1:** Load the Data\n",
                "\n",
                "**Part 2:** <span style=\"color: var(--vscode-foreground);\">&nbsp;Prepare the Data</span>\n",
                "\n",
                "**Part 3:** Construct the A-B Test\n",
                "\n",
                "**Part 4:** Share Findings with Stakeholders"
            ],
            "metadata": {
                "id": "WVeXS7BNzX6e",
                "azdata_cell_guid": "7f8f6cdd-74a1-4abb-b644-08607427b153"
            },
            "attachments": {}
        },
        {
            "cell_type": "markdown",
            "source": [
                "## **1: Load the Data**\n",
                "\n",
                "### **Build dataframe**"
            ],
            "metadata": {
                "id": "ehehvUzFj0-e",
                "azdata_cell_guid": "783f7052-70eb-491c-9a7b-020525a11c98"
            },
            "attachments": {}
        },
        {
            "cell_type": "code",
            "source": [
                "# Import packages for data manipulation\n",
                "import pandas as pd\n",
                "import numpy as np\n",
                "\n",
                "# Import packages for data visualization\n",
                "import matplotlib.pyplot as plt\n",
                "import seaborn as sns\n",
                "\n",
                "# Import packages for statistical analysis/hypothesis testing\n",
                "from scipy import stats\n",
                "\n",
                "# Load dataset into dataframe\n",
                "taxi_data = pd.read_csv(\"2017_Yellow_Taxi_Trip_Data.csv\", index_col = 0)\n",
                ""
            ],
            "metadata": {
                "id": "1Q-GL2UrgWWG",
                "azdata_cell_guid": "2e096ea7-0211-45a3-9f42-4fbc92066456",
                "language": "python"
            },
            "outputs": [],
            "execution_count": 8
        },
        {
            "cell_type": "markdown",
            "source": [
                "## **2: Prepare the Data**\n",
                "\n",
                "### **Clean Data**"
            ],
            "metadata": {
                "id": "UKhYTdVhf5B2",
                "azdata_cell_guid": "5be79a1b-f63c-42b6-95c6-f3649691f333"
            },
            "attachments": {}
        },
        {
            "cell_type": "code",
            "source": [
                "# Drop rows with missing values\r\n",
                "taxi_data = taxi_data.dropna(axis=0)\r\n",
                ""
            ],
            "metadata": {
                "azdata_cell_guid": "f325b3ef-dfbc-4d6b-a57c-e3116547ce14",
                "language": "python"
            },
            "outputs": [],
            "execution_count": 9
        },
        {
            "cell_type": "markdown",
            "source": [
                "### **Preliminary Data Exploration**\n",
                "\n",
                "We are interested in the relationship between payment type and the fare amount the customer pays. One approach is to look at the average fare amount for each payment type."
            ],
            "metadata": {
                "id": "-fFiNg4hdGBK",
                "azdata_cell_guid": "dfd7b9a0-e852-48b8-b3ba-0449da1c5d76"
            },
            "attachments": {}
        },
        {
            "cell_type": "code",
            "source": [
                "# Compute the mean `fare_amount` for each group in `payment_type`\r\n",
                "taxi_data.groupby('payment_type')['fare_amount'].mean()\r\n",
                ""
            ],
            "metadata": {
                "id": "2LGEWrdVXgI2",
                "azdata_cell_guid": "54a3b645-0969-4700-b592-b9ffe9afaf89",
                "language": "python"
            },
            "outputs": [
                {
                    "data": {
                        "text/plain": "payment_type\n1    13.429748\n2    12.213546\n3    12.186116\n4     9.913043\nName: fare_amount, dtype: float64"
                    },
                    "metadata": {},
                    "execution_count": 10,
                    "output_type": "execute_result"
                }
            ],
            "execution_count": 10
        },
        {
            "cell_type": "markdown",
            "source": [
                "**Note:** In the dataset, `payment_type` is encoded in integers:\n",
                "*   1: Credit card\n",
                "*   2: Cash\n",
                "*   3: No charge\n",
                "*   4: Dispute\n",
                "*   5: Unknown\n",
                "\n"
            ],
            "metadata": {
                "id": "JAq7ag0pTNgl",
                "azdata_cell_guid": "e0b44ee9-9bee-4be8-b417-0df6709b3e13"
            }
        },
        {
            "cell_type": "markdown",
            "source": [
                "Based on the averages shown, it appears that customers who pay in credit card tend to pay a larger fare amount than customers who pay in cash. However, this difference might arise from random sampling, rather than being a true difference in fare amount. To assess whether the difference is statistically significant, we conduct a hypothesis test."
            ],
            "metadata": {
                "id": "Z_u-zWvGdfII",
                "azdata_cell_guid": "6547ac7a-8b05-470d-af25-12d14fe07cad"
            },
            "attachments": {}
        },
        {
            "cell_type": "markdown",
            "source": [
                "## **3: Construct the A-B Test**\n",
                "\n",
                "### **Hypothesis Testing**\n",
                "\n",
                "- **Null hypothesis**: There is no difference in average fare between customers who use credit cards and customers who use cash (any observed difference in the sample data is due to chance or sampling variability).\n",
                "- **Alternative hypothesis**: There is a difference in average fare between customers who use credit cards and customers who use cash (any observed difference in the sample data is due to an actual difference in the corresponding population means)."
            ],
            "metadata": {
                "id": "SkDeGggZYM84",
                "azdata_cell_guid": "1067b966-674e-4b1a-bf59-f2ba1ca63d26"
            },
            "attachments": {}
        },
        {
            "cell_type": "markdown",
            "source": [
                "### **Significance Level**\n",
                "\n",
                "We choose 5% as the significance level and proceed with a two-sample t-test."
            ],
            "metadata": {
                "id": "IVHpnfvNeTUA",
                "azdata_cell_guid": "4553c08d-9346-468b-b7ab-7eb718692aee"
            },
            "attachments": {}
        },
        {
            "cell_type": "markdown",
            "source": [
                "### **Find P-Value**"
            ],
            "metadata": {
                "azdata_cell_guid": "4a180dca-d780-40d5-95ba-2b7a93db7a4a"
            },
            "attachments": {}
        },
        {
            "cell_type": "code",
            "source": [
                "# Conduct a two-sample t-test to compare means\n",
                "\n",
                "# Save each sample in a variable\n",
                "credit_card = taxi_data[taxi_data['payment_type'] == 1]['fare_amount']\n",
                "cash = taxi_data[taxi_data['payment_type'] == 2]['fare_amount']\n",
                "\n",
                "# Implement a t-test using the two samples\n",
                "stats.ttest_ind(a=credit_card, b=cash, equal_var=False)\n",
                ""
            ],
            "metadata": {
                "id": "rdlsXg7Dhbrd",
                "azdata_cell_guid": "477be319-ea8d-443a-b8eb-18512363399d",
                "language": "python"
            },
            "outputs": [
                {
                    "data": {
                        "text/plain": "TtestResult(statistic=6.866800855655372, pvalue=6.797387473030518e-12, df=16675.48547403633)"
                    },
                    "metadata": {},
                    "execution_count": 12,
                    "output_type": "execute_result"
                }
            ],
            "execution_count": 12
        },
        {
            "cell_type": "markdown",
            "source": [
                "### **Hypothesis Result**\n",
                "\n",
                "<span style=\"color: var(--vscode-foreground);\">Since the p-value is significantly smaller than the significance level of 5%, you reject the null hypothesis.</span>\n",
                "\n",
                "<span style=\"color: var(--vscode-foreground);\">Our conclusion is that there</span> **is** a statistically significant difference in the average fare amount between customers who use credit cards and customers who use cash."
            ],
            "metadata": {
                "id": "64Wq_VSaVsNm",
                "azdata_cell_guid": "5f5b7b2c-35dc-48ce-a06c-2a748c36045a"
            },
            "attachments": {}
        },
        {
            "cell_type": "markdown",
            "source": [
                "## **4: Share Findings with Stakeholders**\n",
                "\n",
                "### **Conclusions**\n",
                "\n",
                "The analysis shows that there is a statistically significant difference between the `fare_amount` for the credit card `payment_type` vs the cash `payment_type`. This suggests there might be more profitable for the taxi company to encourage payments by credit card.\n",
                "\n",
                "However, this assumes that passengers were forced to pay one way or the other, and that once informed of this requirement, they always complied with it. **The data was not collected this way**; so the&nbsp;  randomly grouped data entries to perform an A/B test was based on  &nbsp;an assumption that might necessarily be true.\n",
                "\n",
                "This dataset does not account for other likely explanations. <b>For example</b>, riders might not carry lots of cash, so it's easier to pay for longer, long-distance trips with a credit card. <i>In other words, it's far more likely that fare amount determines payment type, rather than vice versa.</i>\n",
                "\n",
                "### **Next Steps**\n",
                "\n",
                "The key business insight is that encouraging customers to pay with credit cards _may_ generate more revenue for taxi cab drivers. For example, the taxi company can install signs that read “Credit card payments are preferred” in their cabs, and implement a protocol that requires cab drivers to verbally inform customers that credit card payments are preferred."
            ],
            "metadata": {
                "id": "-CgNingVY4Bw",
                "azdata_cell_guid": "bbb3ea77-08e7-46dc-b213-ab1d97780ffd"
            },
            "attachments": {}
        }
    ]
}